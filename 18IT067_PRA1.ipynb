{
  "nbformat": 4,
  "nbformat_minor": 0,
  "metadata": {
    "kernelspec": {
      "display_name": "Python 3",
      "language": "python",
      "name": "python3"
    },
    "language_info": {
      "codemirror_mode": {
        "name": "ipython",
        "version": 3
      },
      "file_extension": ".py",
      "mimetype": "text/x-python",
      "name": "python",
      "nbconvert_exporter": "python",
      "pygments_lexer": "ipython3",
      "version": "3.8.3"
    },
    "colab": {
      "name": "18IT067_PRA1.ipynb",
      "provenance": [],
      "collapsed_sections": []
    }
  },
  "cells": [
    {
      "cell_type": "code",
      "metadata": {
        "colab": {
          "base_uri": "https://localhost:8080/"
        },
        "id": "96t8VbJx5whP",
        "outputId": "59f36af9-f6c4-4f53-cadf-4a5832719268"
      },
      "source": [
        "pip install pandas"
      ],
      "execution_count": 1,
      "outputs": [
        {
          "output_type": "stream",
          "text": [
            "Requirement already satisfied: pandas in /usr/local/lib/python3.7/dist-packages (1.1.5)\n",
            "Requirement already satisfied: pytz>=2017.2 in /usr/local/lib/python3.7/dist-packages (from pandas) (2018.9)\n",
            "Requirement already satisfied: numpy>=1.15.4 in /usr/local/lib/python3.7/dist-packages (from pandas) (1.19.5)\n",
            "Requirement already satisfied: python-dateutil>=2.7.3 in /usr/local/lib/python3.7/dist-packages (from pandas) (2.8.1)\n",
            "Requirement already satisfied: six>=1.5 in /usr/local/lib/python3.7/dist-packages (from python-dateutil>=2.7.3->pandas) (1.15.0)\n"
          ],
          "name": "stdout"
        }
      ]
    },
    {
      "cell_type": "code",
      "metadata": {
        "colab": {
          "base_uri": "https://localhost:8080/"
        },
        "id": "LWZSSk-O5whQ",
        "outputId": "6d513d0b-d565-454d-a0c5-a86c10c8cb76"
      },
      "source": [
        "pip install requests"
      ],
      "execution_count": 2,
      "outputs": [
        {
          "output_type": "stream",
          "text": [
            "Requirement already satisfied: requests in /usr/local/lib/python3.7/dist-packages (2.23.0)\n",
            "Requirement already satisfied: urllib3!=1.25.0,!=1.25.1,<1.26,>=1.21.1 in /usr/local/lib/python3.7/dist-packages (from requests) (1.24.3)\n",
            "Requirement already satisfied: idna<3,>=2.5 in /usr/local/lib/python3.7/dist-packages (from requests) (2.10)\n",
            "Requirement already satisfied: certifi>=2017.4.17 in /usr/local/lib/python3.7/dist-packages (from requests) (2021.5.30)\n",
            "Requirement already satisfied: chardet<4,>=3.0.2 in /usr/local/lib/python3.7/dist-packages (from requests) (3.0.4)\n"
          ],
          "name": "stdout"
        }
      ]
    },
    {
      "cell_type": "code",
      "metadata": {
        "colab": {
          "base_uri": "https://localhost:8080/"
        },
        "id": "QGRXsIWu5whR",
        "outputId": "6042195e-9d1f-4319-8d14-e63311afb395"
      },
      "source": [
        "pip install bs4"
      ],
      "execution_count": 3,
      "outputs": [
        {
          "output_type": "stream",
          "text": [
            "Requirement already satisfied: bs4 in /usr/local/lib/python3.7/dist-packages (0.0.1)\n",
            "Requirement already satisfied: beautifulsoup4 in /usr/local/lib/python3.7/dist-packages (from bs4) (4.6.3)\n"
          ],
          "name": "stdout"
        }
      ]
    },
    {
      "cell_type": "code",
      "metadata": {
        "id": "vUxbgxcP5whR"
      },
      "source": [
        "from bs4 import BeautifulSoup \n",
        "\n",
        "import requests \n",
        "\n",
        "import csv\n",
        "\n",
        "import pandas as pd"
      ],
      "execution_count": 4,
      "outputs": []
    },
    {
      "cell_type": "code",
      "metadata": {
        "id": "SpjM5QZe5whR"
      },
      "source": [
        "url='https://www.flipkart.com/search?q=laptop&sid=6bo%2Cb5g&as=on&as-show=on&otracker=AS_QueryStore_OrganicAutoSuggest_1_1_na_na_na&otracker1=AS_QueryStore_OrganicAutoSuggest_1_1_na_na_na&as-pos=1&as-type=HISTORY&suggestionId=laptop%7CLaptops&requestId=9bc1d9d5-4d91-411e-b6b8-fa0d151e8197'"
      ],
      "execution_count": 5,
      "outputs": []
    },
    {
      "cell_type": "code",
      "metadata": {
        "id": "JX49gKxO5whS"
      },
      "source": [
        "req=requests.get(url)"
      ],
      "execution_count": 6,
      "outputs": []
    },
    {
      "cell_type": "code",
      "metadata": {
        "id": "FGHoyGdT5whS"
      },
      "source": [
        "content=BeautifulSoup(req.content,'html.parser')"
      ],
      "execution_count": 7,
      "outputs": []
    },
    {
      "cell_type": "code",
      "metadata": {
        "id": "f1BUINrl5whS"
      },
      "source": [
        "name=content.find_all('div',{\"class\":\"_4rR01T\"})\n",
        "price=content.find_all('div',{\"class\":\"_30jeq3 _1_WHN1\"})"
      ],
      "execution_count": 12,
      "outputs": []
    },
    {
      "cell_type": "code",
      "metadata": {
        "id": "4_4ktxGP5whS"
      },
      "source": [
        "nm=[]\n",
        "pr=[]\n"
      ],
      "execution_count": 13,
      "outputs": []
    },
    {
      "cell_type": "code",
      "metadata": {
        "id": "wKPV_elP5whT"
      },
      "source": [
        "for i in name:\n",
        "    nm.append(i.text)\n",
        "for i in price:\n",
        "    pr.append(i.text)"
      ],
      "execution_count": 14,
      "outputs": []
    },
    {
      "cell_type": "code",
      "metadata": {
        "id": "gEf-Iv-_5whT"
      },
      "source": [
        "data={'NAME':nm,'PRICE':pr}\n",
        "df=pd.DataFrame(data)"
      ],
      "execution_count": 15,
      "outputs": []
    },
    {
      "cell_type": "code",
      "metadata": {
        "colab": {
          "base_uri": "https://localhost:8080/"
        },
        "id": "be3An5Bn5whT",
        "outputId": "059d2f90-0563-4002-ba2e-7bd9c61a0b2c"
      },
      "source": [
        "print(df)"
      ],
      "execution_count": 16,
      "outputs": [
        {
          "output_type": "stream",
          "text": [
            "                                                 NAME    PRICE\n",
            "0   HP 15s Ryzen 3 Dual Core 3250U - (4 GB/1 TB HD...  ₹32,990\n",
            "1   Lenovo APU Dual Core A9 A99425 - (4 GB/1 TB HD...  ₹21,896\n",
            "2   HP 15s Pentium Gold - (4 GB/1 TB HDD/Windows 1...  ₹28,490\n",
            "3   HP 15s Core i3 11th Gen - (8 GB/1 TB HDD/Windo...  ₹42,490\n",
            "4   HP 15s Ryzen 3 Dual Core 3250U - (8 GB/1 TB HD...  ₹42,990\n",
            "5   HP 15s Core i3 10th Gen - (8 GB/1 TB HDD/Windo...  ₹40,990\n",
            "6   Lenovo V Series Athlon Dual Core 3150U - (4 GB...  ₹25,990\n",
            "7   HP 15s Ryzen 3 Dual Core 3250U - (8 GB/1 TB HD...  ₹37,490\n",
            "8   HP Pavilion Gaming Ryzen 5 Quad Core 3550H - (...  ₹50,990\n",
            "9   DELL Vostro Core i3 10th Gen - (4 GB/256 GB SS...  ₹36,057\n",
            "10  HP Core i3 11th Gen - (8 GB/256 GB SSD/Windows...  ₹41,490\n",
            "11  Vaio E Series Ryzen 5 Quad Core 3500U - (8 GB/...  ₹50,990\n",
            "12  ASUS VivoBook Ultra 14 Core i3 11th Gen - (8 G...  ₹45,990\n",
            "13  acer Aspire 7 Core i5 10th Gen - (8 GB/512 GB ...  ₹56,990\n",
            "14  HP Core i3 11th Gen - (8 GB/512 GB SSD/Windows...  ₹45,490\n",
            "15  ASUS VivoBook 15 Core i3 10th Gen - (4 GB/1 TB...  ₹34,990\n",
            "16  HP 15s Core i3 10th Gen - (8 GB/1 TB HDD/256 G...  ₹44,490\n",
            "17  ASUS Chromebooks Celeron Dual Core - (4 GB/64 ...  ₹23,999\n",
            "18  ASUS Vivobook Gaming Core i5 9th Gen - (8 GB/5...  ₹54,990\n",
            "19  DELL Vostro Core i3 11th Gen - (8 GB/1 TB HDD/...  ₹39,650\n",
            "20  DELL Inspiron 3501 Core i5 11th Gen - (8 GB/1 ...  ₹57,150\n",
            "21  HP Pavilion Core i5 11th Gen - (16 GB/512 GB S...  ₹66,990\n",
            "22  ASUS Chromebooks Celeron Dual Core - (4 GB/64 ...  ₹23,999\n",
            "23  HP 15s Core i5 11th Gen - (8 GB/512 GB SSD/Win...  ₹58,990\n"
          ],
          "name": "stdout"
        }
      ]
    },
    {
      "cell_type": "code",
      "metadata": {
        "id": "m-lJnxau5whU"
      },
      "source": [
        "df.to_csv('18it067_paras_monapara.csv')"
      ],
      "execution_count": 17,
      "outputs": []
    },
    {
      "cell_type": "code",
      "metadata": {
        "id": "NllrT31Z5whU"
      },
      "source": [
        ""
      ],
      "execution_count": null,
      "outputs": []
    }
  ]
}